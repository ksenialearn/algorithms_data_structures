{
 "cells": [
  {
   "cell_type": "code",
   "execution_count": 1,
   "metadata": {
    "collapsed": true
   },
   "outputs": [],
   "source": [
    "#Quick-Find\n",
    "#Quadratic algorithm to process N union commands\n",
    "class QuickFindUF:\n",
    "    id_list = []\n",
    "    \n",
    "    def __init__(self, N):\n",
    "        #Set id of each object to self. N array accesses\n",
    "        self.id_list = list(range(N))\n",
    "        \n",
    "    def connected(self, p, q):\n",
    "        #Check whether p and q are in the same component \n",
    "        # (2 array accesses)\n",
    "        return self.id_list[p] == self.id_list[q]\n",
    "    \n",
    "    def union(self, p, q):\n",
    "        #change all entries with id[p] to id[q]\n",
    "        #(at most 2N + 2 array accesses)\n",
    "        pid = self.id_list[p]\n",
    "        qid = self.id_list[q]\n",
    "        \n",
    "        self.id_list[self.id_list == pid] = qid\n",
    "        "
   ]
  }
 ],
 "metadata": {
  "kernelspec": {
   "display_name": "Python 3",
   "language": "python",
   "name": "python3"
  },
  "language_info": {
   "codemirror_mode": {
    "name": "ipython",
    "version": 3
   },
   "file_extension": ".py",
   "mimetype": "text/x-python",
   "name": "python",
   "nbconvert_exporter": "python",
   "pygments_lexer": "ipython3",
   "version": "3.6.1"
  }
 },
 "nbformat": 4,
 "nbformat_minor": 2
}
