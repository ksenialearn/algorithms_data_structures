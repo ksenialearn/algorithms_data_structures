{
 "cells": [
  {
   "cell_type": "code",
   "execution_count": 1,
   "metadata": {
    "collapsed": true
   },
   "outputs": [],
   "source": [
    "#Quick-Find\n",
    "#Cost: N to initialize, N to union, 1 to find\n",
    "class QuickFindUF:\n",
    "    id_list = []\n",
    "    \n",
    "    def __init__(self, N):\n",
    "        #Set id of each object to self. N array accesses\n",
    "        self.id_list = list(range(N))\n",
    "        \n",
    "    def connected(self, p, q):\n",
    "        #Check whether p and q are in the same component \n",
    "        # (2 array accesses)\n",
    "        return self.id_list[p] == self.id_list[q]\n",
    "    \n",
    "    def union(self, p, q):\n",
    "        #change all entries with id[p] to id[q]\n",
    "        #(at most 2N + 2 array accesses)\n",
    "        pid = self.id_list[p]\n",
    "        qid = self.id_list[q]\n",
    "        \n",
    "        self.id_list[self.id_list == pid] = qid\n",
    "        "
   ]
  },
  {
   "cell_type": "code",
   "execution_count": 4,
   "metadata": {
    "collapsed": true
   },
   "outputs": [],
   "source": [
    "#Quick-Union\n",
    "#Cost: N to initialize, N to union, N to find\n",
    "\n",
    "class QuickUnionUF:\n",
    "    id_list = []\n",
    "    \n",
    "    def __init__(self, N):\n",
    "        #Set id of each object to self. N array accesses\n",
    "        self.id_list = list(range(N))\n",
    "        \n",
    "    def root(self, i):\n",
    "        #Chase parent pointers until reach root\n",
    "        while i!= self.id_list[i]:\n",
    "            i = self.id_list[i]\n",
    "        return i\n",
    "    \n",
    "    def connected(self, p, q):\n",
    "        #Check if p and q have same root\n",
    "        return self.root(p) == self.root(q)\n",
    "    \n",
    "    def union(self, p, q):\n",
    "        #Change root of p to point to root of q\n",
    "        i = self.root(p)\n",
    "        j = self.root(q)\n",
    "        self.id_list[i] = j\n",
    "        "
   ]
  },
  {
   "cell_type": "code",
   "execution_count": 25,
   "metadata": {
    "collapsed": true
   },
   "outputs": [],
   "source": [
    "#Weighted Quick-Union: try to keep trees short\n",
    "#Depth of any node is at most lg N\n",
    "#Cost: initialize: N, union: log N, connecte: log N\n",
    "\n",
    "class WeightedQuickUnionUF:\n",
    "    id_list = []\n",
    "    sz = []\n",
    "    \n",
    "    def __init__(self, N):\n",
    "        #Set id of each object to self. N array accesses\n",
    "        self.id_list = list(range(N))\n",
    "        self.sz = [1]*N\n",
    "        \n",
    "    def root(self, i):\n",
    "        #Chase parent pointers until reach root\n",
    "        while i != self.id_list[i]:\n",
    "            i = self.id_list[i]\n",
    "        return i\n",
    "    \n",
    "    def connected(self, p, q):\n",
    "        #Check if p and q have same root\n",
    "        return self.root(p) == self.root(q)\n",
    "    \n",
    "    def union(self, p, q):\n",
    "        #Change root of p to point to root of q\n",
    "        #Link root of smaller tree to root of larger tree\n",
    "        i = self.root(p)\n",
    "        j = self.root(q)\n",
    "        if i == j:\n",
    "            return\n",
    "        if self.sz[i] < self.sz[j]:\n",
    "            self.id_list[i] = j\n",
    "            self.sz[j] += self.sz[i]\n",
    "        else:\n",
    "            self.id_list[j] = i\n",
    "            self.sz[i] += self.sz[j]"
   ]
  },
  {
   "cell_type": "code",
   "execution_count": 34,
   "metadata": {
    "collapsed": true
   },
   "outputs": [],
   "source": [
    "#Quick Union with path compression\n",
    "#We implement an easier version: every other node points to grandparent\n",
    "#Half path lengt\n",
    "#Cost: initialize: N, union: log N, connect: log N\n",
    "\n",
    "class WeightedQuickUnionPathUF:\n",
    "    id_list = []\n",
    "    sz = []\n",
    "    \n",
    "    def __init__(self, N):\n",
    "        #Set id of each object to self. N array accesses\n",
    "        self.id_list = list(range(N))\n",
    "        self.sz = [1]*N\n",
    "        \n",
    "    def root(self, i):\n",
    "        #Chase parent pointers until reach root\n",
    "        while i != self.id_list[i]:\n",
    "            self.id_list[i] = self.id_list[self.id_list[i]]\n",
    "            i = self.id_list[i]\n",
    "        return i\n",
    "    \n",
    "    def connected(self, p, q):\n",
    "        #Check if p and q have same root\n",
    "        return self.root(p) == self.root(q)\n",
    "    \n",
    "    def union(self, p, q):\n",
    "        #Change root of p to point to root of q\n",
    "        #Link root of smaller tree to root of larger tree\n",
    "        i = self.root(p)\n",
    "        j = self.root(q)\n",
    "        if i == j:\n",
    "            return\n",
    "        if self.sz[i] < self.sz[j]:\n",
    "            self.id_list[i] = j\n",
    "            self.sz[j] += self.sz[i]\n",
    "        else:\n",
    "            self.id_list[j] = i\n",
    "            self.sz[i] += self.sz[j]\n"
   ]
  }
 ],
 "metadata": {
  "kernelspec": {
   "display_name": "Python 3",
   "language": "python",
   "name": "python3"
  },
  "language_info": {
   "codemirror_mode": {
    "name": "ipython",
    "version": 3
   },
   "file_extension": ".py",
   "mimetype": "text/x-python",
   "name": "python",
   "nbconvert_exporter": "python",
   "pygments_lexer": "ipython3",
   "version": "3.6.1"
  }
 },
 "nbformat": 4,
 "nbformat_minor": 2
}
